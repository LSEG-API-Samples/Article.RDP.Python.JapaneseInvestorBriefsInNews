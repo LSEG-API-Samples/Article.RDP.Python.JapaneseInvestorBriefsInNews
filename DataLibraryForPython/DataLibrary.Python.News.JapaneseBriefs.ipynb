{
 "cells": [
  {
   "cell_type": "markdown",
   "id": "7603cbd5-1f88-4400-8fa3-4e0629aeba5a",
   "metadata": {},
   "source": [
    "----\n",
    "<img src=\"./files/refinitiv.png\" width=\"20%\" style=\"vertical-align: top;\">\n",
    "\n",
    "---- \n",
    "This source code is provided under the Apache 2.0 license\\\n",
    "and is provided AS IS with no warranty or guarantee of fit for purpose.\\\n",
    "See the project's LICENSE.md for details.\\\n",
    "Copyright (C) 2022 Refinitiv. All rights reserved.\n",
    "---- \n",
    "# RDP News Japanese Briefs\n",
    "### Using Data Library for Python\n",
    "----"
   ]
  },
  {
   "cell_type": "markdown",
   "id": "1c39b9b6-e261-48a9-ba27-849d57eb37dc",
   "metadata": {},
   "source": [
    "### Setup"
   ]
  },
  {
   "cell_type": "code",
   "execution_count": 1,
   "id": "23a72c2a-209c-4973-b20a-e43a2ac70efa",
   "metadata": {},
   "outputs": [],
   "source": [
    "import os\n",
    "os.environ[\"RD_LIB_CONFIG_PATH\"] = \"./Configuration\""
   ]
  },
  {
   "cell_type": "code",
   "execution_count": 2,
   "id": "52a86af0-cf06-495c-aae4-b04b1812737b",
   "metadata": {},
   "outputs": [],
   "source": [
    "import refinitiv.data as rd\n",
    "from refinitiv.data.content import news\n",
    "from datetime import timedelta"
   ]
  },
  {
   "cell_type": "markdown",
   "id": "30905f39-365f-4c79-ade1-28120648857d",
   "metadata": {},
   "source": [
    "### For Debugging or More Insight"
   ]
  },
  {
   "cell_type": "code",
   "execution_count": 3,
   "id": "03ec14dd-0a26-413d-8846-ba80fc514b4c",
   "metadata": {},
   "outputs": [],
   "source": [
    "import pandas as pd\n",
    "pd.set_option('display.max_rows', None)\n",
    "\n",
    "#import logging\n",
    "#logging.basicConfig(format='%(asctime)s - %(name)s - %(levelname)s - %(message)s', level=logging.DEBUG)"
   ]
  },
  {
   "cell_type": "markdown",
   "id": "01d6714f-bfbf-44ae-bb62-142d79452df7",
   "metadata": {},
   "source": [
    "### Open session"
   ]
  },
  {
   "cell_type": "code",
   "execution_count": 4,
   "id": "b52c4452-bdc0-4616-ae4a-3cbd025a98a6",
   "metadata": {},
   "outputs": [
    {
     "data": {
      "text/plain": [
       "<refinitiv.data.session.platform.Definition object at 0x25a994545b0 {session_name='rdp'}>"
      ]
     },
     "execution_count": 4,
     "metadata": {},
     "output_type": "execute_result"
    }
   ],
   "source": [
    "rd.open_session('platform.rdp')\n",
    "#rd.open_session('desktop.workspace')"
   ]
  },
  {
   "cell_type": "markdown",
   "id": "a09a569b-8a0a-4e12-a0a7-88662430cf37",
   "metadata": {},
   "source": [
    "### Get Japanese Briefs (NP:RINBX) in Japanese language (LJA) related to United States (G:6J)"
   ]
  },
  {
   "cell_type": "code",
   "execution_count": 5,
   "id": "9b307923-226e-483e-927f-1e120768e3bd",
   "metadata": {},
   "outputs": [
    {
     "data": {
      "text/html": [
       "<div>\n",
       "<style scoped>\n",
       "    .dataframe tbody tr th:only-of-type {\n",
       "        vertical-align: middle;\n",
       "    }\n",
       "\n",
       "    .dataframe tbody tr th {\n",
       "        vertical-align: top;\n",
       "    }\n",
       "\n",
       "    .dataframe thead th {\n",
       "        text-align: right;\n",
       "    }\n",
       "</style>\n",
       "<table border=\"1\" class=\"dataframe\">\n",
       "  <thead>\n",
       "    <tr style=\"text-align: right;\">\n",
       "      <th></th>\n",
       "      <th>versionCreated</th>\n",
       "      <th>text</th>\n",
       "      <th>storyId</th>\n",
       "      <th>sourceCode</th>\n",
       "    </tr>\n",
       "  </thead>\n",
       "  <tbody>\n",
       "    <tr>\n",
       "      <th>2022-10-04 00:16:19</th>\n",
       "      <td>2022-10-04 00:16:19</td>\n",
       "      <td>BRIEF-インテル傘下モービルアイ、ＩＰＯ目論見書を提出</td>\n",
       "      <td>urn:newsml:reuters.com:20221004:nL6N315004:1</td>\n",
       "      <td>NS:RTRS</td>\n",
       "    </tr>\n",
       "    <tr>\n",
       "      <th>2022-10-04 00:03:47</th>\n",
       "      <td>2022-10-04 00:03:47</td>\n",
       "      <td>BRIEF-ハリケーン「イアン」被害の保険金請求、最大５７０億ドルか＝分析会社</td>\n",
       "      <td>urn:newsml:reuters.com:20221004:nL6N3140GR:1</td>\n",
       "      <td>NS:RTRS</td>\n",
       "    </tr>\n",
       "    <tr>\n",
       "      <th>2022-10-03 13:42:11</th>\n",
       "      <td>2022-10-03 13:42:11</td>\n",
       "      <td>BRIEF-バルチック海運指数、1.6％高の1788ポイント</td>\n",
       "      <td>urn:newsml:reuters.com:20221003:nL4N3142CA:1</td>\n",
       "      <td>NS:RTRS</td>\n",
       "    </tr>\n",
       "    <tr>\n",
       "      <th>2022-10-03 07:01:32</th>\n",
       "      <td>2022-10-03 07:01:32</td>\n",
       "      <td>BRIEF-ケリング・アイウエア、サングラス・ブランド「マウイ・ジム」の買収を完了</td>\n",
       "      <td>urn:newsml:reuters.com:20221003:nL6N31404R:1</td>\n",
       "      <td>NS:RTRS</td>\n",
       "    </tr>\n",
       "    <tr>\n",
       "      <th>2022-10-03 06:29:57</th>\n",
       "      <td>2022-10-03 06:29:57</td>\n",
       "      <td>BRIEF-起亜自動車の米子会社、９月販売台数は５万６２７０台　前年同月比６.４％増</td>\n",
       "      <td>urn:newsml:reuters.com:20221003:nL6N314040:1</td>\n",
       "      <td>NS:RTRS</td>\n",
       "    </tr>\n",
       "    <tr>\n",
       "      <th>2022-10-03 06:29:17</th>\n",
       "      <td>2022-10-03 06:29:17</td>\n",
       "      <td>BRIEF-独チームビューワーと韓国の現代自動車、戦略的パートナーシップを締結</td>\n",
       "      <td>urn:newsml:reuters.com:20221003:nL6N31403H:1</td>\n",
       "      <td>NS:RTRS</td>\n",
       "    </tr>\n",
       "    <tr>\n",
       "      <th>2022-10-03 06:20:14</th>\n",
       "      <td>2022-10-03 06:20:14</td>\n",
       "      <td>BRIEF-米グーグル、中国本土でグーグル翻訳を停止　利用率低迷で＝広報担当者</td>\n",
       "      <td>urn:newsml:reuters.com:20221003:nL6N31402X:1</td>\n",
       "      <td>NS:RTRS</td>\n",
       "    </tr>\n",
       "    <tr>\n",
       "      <th>2022-10-03 03:04:19</th>\n",
       "      <td>2022-10-03 03:04:19</td>\n",
       "      <td>BRIEF-バークレイズ、一括発行登録の下で行ったバークレイズ・バンクの過剰発行に関する最新...</td>\n",
       "      <td>urn:newsml:reuters.com:20221003:nL6N31401J:1</td>\n",
       "      <td>NS:RTRS</td>\n",
       "    </tr>\n",
       "    <tr>\n",
       "      <th>2022-10-03 03:02:19</th>\n",
       "      <td>2022-10-03 03:02:19</td>\n",
       "      <td>BRIEF-英ＢＡＴ、自社株買いプログラムを発表</td>\n",
       "      <td>urn:newsml:reuters.com:20221003:nL6N314012:1</td>\n",
       "      <td>NS:RTRS</td>\n",
       "    </tr>\n",
       "    <tr>\n",
       "      <th>2022-10-03 03:01:45</th>\n",
       "      <td>2022-10-03 03:01:45</td>\n",
       "      <td>BRIEF-米ヒューマナ、２０２３年にメディケア・アドバンテージ・ヘルスプランの提供を大幅に...</td>\n",
       "      <td>urn:newsml:reuters.com:20221003:nL6N31400H:1</td>\n",
       "      <td>NS:RTRS</td>\n",
       "    </tr>\n",
       "  </tbody>\n",
       "</table>\n",
       "</div>"
      ],
      "text/plain": [
       "                         versionCreated  \\\n",
       "2022-10-04 00:16:19 2022-10-04 00:16:19   \n",
       "2022-10-04 00:03:47 2022-10-04 00:03:47   \n",
       "2022-10-03 13:42:11 2022-10-03 13:42:11   \n",
       "2022-10-03 07:01:32 2022-10-03 07:01:32   \n",
       "2022-10-03 06:29:57 2022-10-03 06:29:57   \n",
       "2022-10-03 06:29:17 2022-10-03 06:29:17   \n",
       "2022-10-03 06:20:14 2022-10-03 06:20:14   \n",
       "2022-10-03 03:04:19 2022-10-03 03:04:19   \n",
       "2022-10-03 03:02:19 2022-10-03 03:02:19   \n",
       "2022-10-03 03:01:45 2022-10-03 03:01:45   \n",
       "\n",
       "                                                                  text  \\\n",
       "2022-10-04 00:16:19                      BRIEF-インテル傘下モービルアイ、ＩＰＯ目論見書を提出   \n",
       "2022-10-04 00:03:47            BRIEF-ハリケーン「イアン」被害の保険金請求、最大５７０億ドルか＝分析会社   \n",
       "2022-10-03 13:42:11                     BRIEF-バルチック海運指数、1.6％高の1788ポイント   \n",
       "2022-10-03 07:01:32          BRIEF-ケリング・アイウエア、サングラス・ブランド「マウイ・ジム」の買収を完了   \n",
       "2022-10-03 06:29:57         BRIEF-起亜自動車の米子会社、９月販売台数は５万６２７０台　前年同月比６.４％増   \n",
       "2022-10-03 06:29:17            BRIEF-独チームビューワーと韓国の現代自動車、戦略的パートナーシップを締結   \n",
       "2022-10-03 06:20:14            BRIEF-米グーグル、中国本土でグーグル翻訳を停止　利用率低迷で＝広報担当者   \n",
       "2022-10-03 03:04:19  BRIEF-バークレイズ、一括発行登録の下で行ったバークレイズ・バンクの過剰発行に関する最新...   \n",
       "2022-10-03 03:02:19                           BRIEF-英ＢＡＴ、自社株買いプログラムを発表   \n",
       "2022-10-03 03:01:45  BRIEF-米ヒューマナ、２０２３年にメディケア・アドバンテージ・ヘルスプランの提供を大幅に...   \n",
       "\n",
       "                                                          storyId sourceCode  \n",
       "2022-10-04 00:16:19  urn:newsml:reuters.com:20221004:nL6N315004:1    NS:RTRS  \n",
       "2022-10-04 00:03:47  urn:newsml:reuters.com:20221004:nL6N3140GR:1    NS:RTRS  \n",
       "2022-10-03 13:42:11  urn:newsml:reuters.com:20221003:nL4N3142CA:1    NS:RTRS  \n",
       "2022-10-03 07:01:32  urn:newsml:reuters.com:20221003:nL6N31404R:1    NS:RTRS  \n",
       "2022-10-03 06:29:57  urn:newsml:reuters.com:20221003:nL6N314040:1    NS:RTRS  \n",
       "2022-10-03 06:29:17  urn:newsml:reuters.com:20221003:nL6N31403H:1    NS:RTRS  \n",
       "2022-10-03 06:20:14  urn:newsml:reuters.com:20221003:nL6N31402X:1    NS:RTRS  \n",
       "2022-10-03 03:04:19  urn:newsml:reuters.com:20221003:nL6N31401J:1    NS:RTRS  \n",
       "2022-10-03 03:02:19  urn:newsml:reuters.com:20221003:nL6N314012:1    NS:RTRS  \n",
       "2022-10-03 03:01:45  urn:newsml:reuters.com:20221003:nL6N31400H:1    NS:RTRS  "
      ]
     },
     "execution_count": 5,
     "metadata": {},
     "output_type": "execute_result"
    }
   ],
   "source": [
    "response = news.headlines.Definition(\n",
    "    query=\"NP:RINBX and LJA AND G:6J\"\n",
    ").get_data()\n",
    "response.data.df"
   ]
  },
  {
   "cell_type": "markdown",
   "id": "55fc5099-84c5-4e49-86cd-9b5a1d39b10c",
   "metadata": {},
   "source": [
    "### Request Single Story - First"
   ]
  },
  {
   "cell_type": "code",
   "execution_count": 6,
   "id": "95e9a524-24d6-49e8-b580-2a6a0b080dd9",
   "metadata": {
    "tags": []
   },
   "outputs": [
    {
     "name": "stdout",
     "output_type": "stream",
     "text": [
      "TITLE:  BRIEF-インテル傘下モービルアイ、ＩＰＯ目論見書を提出 \n",
      "\n",
      "\n",
      "       [３日 ロイター] - 米半導体大手インテル<INTC.O>子会社で自動運転技術を手がけるモービルアイ：\n",
      "    * モービルアイ、新規株式公開（ＩＰＯ）の目論見書を提出\n",
      "    * ナスダックに「ＭＢＬＹ」のシンボル名で上場する計画\n",
      "\n",
      "\n",
      "EIKON： [ID:nBw8LsckPa]\n",
      "詳細： [INTC．O]\n",
      " (＊単位などを含め英文記事に沿って表記しています。)\n"
     ]
    }
   ],
   "source": [
    "response2 = news.story.Definition(response.data.df['storyId'][0]).get_data() #\"urn:newsml:reuters.com:20211003:nNRAgvhyiu:1\").get_data()\n",
    "#print(response2.data.raw)\n",
    "if 'News Alert' in str(response2.data.raw):\n",
    "    print('<<<This is an ALERT>>>')\n",
    "else:\n",
    "    print('TITLE: ',response2.data.story.title, '\\n')\n",
    "    print(response2.data.story.content)"
   ]
  },
  {
   "cell_type": "markdown",
   "id": "9cca23ed-550c-4912-b33d-d7f7691c57e4",
   "metadata": {},
   "source": [
    "### Request and Display All Stories"
   ]
  },
  {
   "cell_type": "code",
   "execution_count": 8,
   "id": "f18a9d82-3d2c-433a-b7e5-c5d763aae866",
   "metadata": {
    "scrolled": true,
    "tags": []
   },
   "outputs": [
    {
     "name": "stdout",
     "output_type": "stream",
     "text": [
      "Story ID #0 is : urn:newsml:reuters.com:20221004:nL6N315004:1\n",
      "TITLE:  BRIEF-インテル傘下モービルアイ、ＩＰＯ目論見書を提出 \n",
      "\n",
      "\n",
      "       [３日 ロイター] - 米半導体大手インテル<INTC.O>子会社で自動運転技術を手がけるモービルアイ：\n",
      "    * モービルアイ、新規株式公開（ＩＰＯ）の目論見書を提出\n",
      "    * ナスダックに「ＭＢＬＹ」のシンボル名で上場する計画\n",
      "\n",
      "\n",
      "EIKON： [ID:nBw8LsckPa]\n",
      "詳細： [INTC．O]\n",
      " (＊単位などを含め英文記事に沿って表記しています。)\n",
      "---------------------------------------------\n",
      "Story ID #1 is : urn:newsml:reuters.com:20221004:nL6N3140GR:1\n",
      "TITLE:  BRIEF-ハリケーン「イアン」被害の保険金請求、最大５７０億ドルか＝分析会社 \n",
      "\n",
      "\n",
      "       [３日 ロイター] - 保険リスク分析会社べリスク<VRSK.O>:\n",
      "    * べリスクによると、米南部フロリダ州とサウスカロライナ州を直撃したハリケーン「イアン」被害の保険金請求が最大５７０億ドルに達する見通し\n",
      "    * 訴訟やインフラへの影響などに絡む要素は含まれておらず、最終的に６００億ドルに上る可能性も\n",
      "\n",
      "Eikonのソーステキスト [ID:nGNX3Jq6pM]\n",
      "さらに詳しい会社情報はこちら [VRSK.O]\n",
      " (＊単位などを含め英文記事に沿って表記しています。)\n",
      "---------------------------------------------\n",
      "Story ID #2 is : urn:newsml:reuters.com:20221003:nL4N3142CA:1\n",
      "TITLE:  BRIEF-バルチック海運指数、1.6％高の1788ポイント \n",
      "\n",
      "\n",
      "       ［３日　ロイター］ - バルチック海運指数 <.BADI>:\n",
      "    * １．６％（２８ポイント）高の１７８８ポイント。\n",
      "\n",
      "    <^^^^^^^^^^^^^^^^^^^^^^^^^^^^^^^^^^^^^^^^^^^^^^^^^^^^^^^^^^^\n",
      "Baltic index rises on higher demand for capesize vessels    [ID:nL4N314289]\n",
      "    ^^^^^^^^^^^^^^^^^^^^^^^^^^^^^^^^^^^^^^^^^^^^^^^^^^^^^^^^^^^>\n",
      " (※原文記事など関連情報は画面右側にある「関連コンテンツ」メニューからご覧ください)\n",
      "---------------------------------------------\n",
      "Story ID #3 is : urn:newsml:reuters.com:20221003:nL6N31404R:1\n",
      "TITLE:  BRIEF-ケリング・アイウエア、サングラス・ブランド「マウイ・ジム」の買収を完了 \n",
      "\n",
      "\n",
      "       [３日 ロイター] - 仏高級ブランドグループ、ケリング<PRTP.PA>:\n",
      "    * ケリング・アイウェア、「マウイ・ジム」の買収を完了\n",
      "    * ケリング・アイウェア、「マウイ・ジム」の株式の９０％以上を保有し、残りの株式も年内に取得する予定\n",
      "    * ２０２２年１０月１日以降、「マウイ・ジム」はケリングの連結子会社に\n",
      "\n",
      "Eikonのソーステキスト [ID:nGNE9pM7tQ]\n",
      "その他の企業情報 <PRTP.PA>\n",
      " (＊単位などを含め英文記事に沿って表記しています。)\n",
      "---------------------------------------------\n",
      "Story ID #4 is : urn:newsml:reuters.com:20221003:nL6N314040:1\n",
      "TITLE:  BRIEF-起亜自動車の米子会社、９月販売台数は５万６２７０台　前年同月比６.４％増 \n",
      "\n",
      "\n",
      "       [１日 ロイター] - 韓国の起亜自動車<000270.KS>の米子会社キア・アメリカ\n",
      "    * ９月の販売台数は５万６２７０台、前年同月比６．４％増\n",
      "\n",
      "\n",
      "Eikonのソーステキスト [ID:nPn6PXsPXa]\n",
      "その他の会社情報 [000270.KS]\n",
      " (＊単位などを含め英文記事に沿って表記しています。)\n",
      "---------------------------------------------\n",
      "Story ID #5 is : urn:newsml:reuters.com:20221003:nL6N31403H:1\n",
      "TITLE:  BRIEF-独チームビューワーと韓国の現代自動車、戦略的パートナーシップを締結 \n",
      "\n",
      "\n",
      "       [３０日 ロイター] - 独チームビューワー<TMV.DE>:\n",
      "    * チームビューワーと韓国の現代自動車<005380.KS>は戦略的パートナーシップを締結、自動車スマートファクトリーのデジタルイノベーションを加速へ\n",
      "    * チームビューワー、業界をリードする企業向け拡張現実（ＡＲ）プラットフォームおよび人工知能（ＡＩ）機能を現代自動車に提供へ\n",
      "    * パートナーシップにより、現代自動車はインテリジェントな製造プラットフォームを開発し、スマートファクトリーにおける生産性、正確性、作業員の安全性を向上可能に\n",
      "\n",
      "エイコンのソーステキスト [ID:nPn1GXNBda]\n",
      "その他の会社情報 [TMV.DE]\n",
      " (＊単位などを含め英文記事に沿って表記しています。)\n",
      "---------------------------------------------\n",
      "Story ID #6 is : urn:newsml:reuters.com:20221003:nL6N31402X:1\n",
      "TITLE:  BRIEF-米グーグル、中国本土でグーグル翻訳を停止　利用率低迷で＝広報担当者 \n",
      "\n",
      "\n",
      "       [３日 ロイター] - グーグルの親会社アルファベット<GOOGL.O>:\n",
      "    * グーグル、利用率が低いため、中国本土でグーグル翻訳を停止＝広報担当者\n",
      "\n",
      "その他の会社情報：[GOOGL.O]\n",
      " (＊単位などを含め英文記事に沿って表記しています。)\n",
      "---------------------------------------------\n",
      "Story ID #7 is : urn:newsml:reuters.com:20221003:nL6N31401J:1\n",
      "TITLE:  BRIEF-バークレイズ、一括発行登録の下で行ったバークレイズ・バンクの過剰発行に関する最新情報を提供 \n",
      "\n",
      "\n",
      "       [３０日 ロイター] - 英銀行大手バークレイズ<BARC.L>:\n",
      "    * バークレイズ、一括発行登録の下で行ったバークレイズ・バンクの過剰発行に関する最新情報を提供\n",
      "    * バークレイズ、米証券取引委員会（ＳＥＣ）と和解\n",
      "    * ＳＥＣは、債券保有者に対するバークレイズ・バンクの独立した取消提案が、不当利得の返還（disgorgement）および関連する判決前利息（prejudgment interest）の要件を満たしていることを確認\n",
      "    * 外部弁護士による過剰発行に関する事実と状況、およびその発行に関連する管理環境のレビューが完了\n",
      "    * 過剰発行は、バークレイズ・バンクが発行制限の対象となった後、バークレイズが発行を追跡する手段を導入しなかったために発生\n",
      "    * バークレイズとバークレイズ・バンクは、ＳＥＣの調査結果を認めることも否定することもなく、合計２億米ドルのペナルティを支払いへ\n",
      "\n",
      "\n",
      "EIKON： [ID:nRSd4159Ba]\n",
      "詳細： [BARC.L]\n",
      " (＊単位などを含め英文記事に沿って表記しています。)\n",
      "---------------------------------------------\n",
      "Story ID #8 is : urn:newsml:reuters.com:20221003:nL6N314012:1\n",
      "TITLE:  BRIEF-英ＢＡＴ、自社株買いプログラムを発表 \n",
      "\n",
      "\n",
      "       [３０日 ロイター] - 英たばこ大手ブリティッシュ・アメリカン・タバコ（ＢＡＴ）<BATS.L>\n",
      "    * 自社株買いプログラムを発表\n",
      "    * ＢＡＴ、２０２２年１０月３日から２０２２年１２月３１日までの期間に無裁量ベースで自社株買いを実施へ\n",
      "\n",
      "Eikonのソーステキスト [ID:nRSd2412Ba]\n",
      "さらに詳しい会社情報はこちら [ ]\n",
      " (＊単位などを含め英文記事に沿って表記しています。)\n",
      "---------------------------------------------\n",
      "Story ID #9 is : urn:newsml:reuters.com:20221003:nL6N31400H:1\n",
      "TITLE:  BRIEF-米ヒューマナ、２０２３年にメディケア・アドバンテージ・ヘルスプランの提供を大幅に拡大すると発表 \n",
      "\n",
      "\n",
      "       [１日 ロイター] - 米医療保険ヒューマナ<HUM.N>:\n",
      "    * ヒューマナ、２０２３年にメディケア・アドバンテージ・ヘルスプランの提供を大幅に拡大し、会員への価値向上に重点的に取り組むと発表\n",
      "\n",
      "Eikonのソーステキスト [ID:nBw8Ygkr2a]\n",
      "その他の会社情報 [HUM.N]\n",
      " (＊単位などを含め英文記事に沿って表記しています。)\n",
      "---------------------------------------------\n"
     ]
    },
    {
     "name": "stderr",
     "output_type": "stream",
     "text": [
      "[Error 400 - invalid_grant] empty error description\n"
     ]
    }
   ],
   "source": [
    "count = 0;\n",
    "for storyIdIter in response.data.df['storyId']:\n",
    "    print('Story ID #'+str(count)+' is : '+storyIdIter)\n",
    "    response3 = news.story.Definition(storyIdIter).get_data()\n",
    "    if 'News Alert' in str(response3.data.raw):\n",
    "        print('<<<This is an ALERT>>>')\n",
    "    else:\n",
    "        print('TITLE: ',response3.data.story.title, '\\n')\n",
    "        print(response3.data.story.content)\n",
    "    print('---------------------------------------------')\n",
    "    count = count+1"
   ]
  },
  {
   "cell_type": "markdown",
   "id": "bb4e7105-a6cd-45a1-9783-0970f8edc90a",
   "metadata": {},
   "source": [
    "## Close the session"
   ]
  },
  {
   "cell_type": "code",
   "execution_count": 11,
   "id": "5676639f-8463-4af9-a6c8-7c2816a6949d",
   "metadata": {},
   "outputs": [],
   "source": [
    "rd.close_session()"
   ]
  }
 ],
 "metadata": {
  "kernelspec": {
   "display_name": "Python 3 (ipykernel)",
   "language": "python",
   "name": "python3"
  },
  "language_info": {
   "codemirror_mode": {
    "name": "ipython",
    "version": 3
   },
   "file_extension": ".py",
   "mimetype": "text/x-python",
   "name": "python",
   "nbconvert_exporter": "python",
   "pygments_lexer": "ipython3",
   "version": "3.8.8"
  }
 },
 "nbformat": 4,
 "nbformat_minor": 5
}
